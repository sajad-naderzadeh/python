{
  "nbformat": 4,
  "nbformat_minor": 0,
  "metadata": {
    "colab": {
      "provenance": []
    },
    "kernelspec": {
      "name": "python3",
      "display_name": "Python 3"
    },
    "language_info": {
      "name": "python"
    }
  },
  "cells": [
    {
      "cell_type": "code",
      "source": [
        "  limit = int (input(\"give me the num:\"))\n",
        "prime_numbers = []\n",
        "\n",
        "for num in range(2, limit + 1):\n",
        "    is_prime = True\n",
        "    for i in range(2, int(num ** 0.5) + 1):\n",
        "        if num % i == 0:\n",
        "            is_prime = False\n",
        "            break\n",
        "    if is_prime:\n",
        "        prime_numbers.append(num)\n",
        "\n",
        "print(\"Prime numbers up to\", limit, \"are:\")\n",
        "print(prime_numbers)"
      ],
      "metadata": {
        "colab": {
          "base_uri": "https://localhost:8080/"
        },
        "id": "DN9pH9eXSQ5R",
        "outputId": "367cef6a-b96c-4c1a-b82e-200e12774f2d"
      },
      "execution_count": null,
      "outputs": [
        {
          "output_type": "stream",
          "name": "stdout",
          "text": [
            "give me the num:36\n",
            "Prime numbers up to 36 are:\n",
            "[2, 3, 5, 7, 11, 13, 17, 19, 23, 29, 31]\n"
          ]
        }
      ]
    },
    {
      "cell_type": "code",
      "source": [
        "# Function to input a matrix\n",
        "def input_matrix(rows, columns):\n",
        "    matrix = []\n",
        "    print(\"Enter the elements of the matrix:\")\n",
        "    for i in range(rows):\n",
        "        row = []\n",
        "        for j in range(columns):\n",
        "            element = float(input(f\"Enter element at position ({i+1}, {j+1}): \"))\n",
        "            row.append(element)\n",
        "        matrix.append(row)\n",
        "    return matrix\n",
        "\n",
        "# Function to check if a matrix is orthogonal\n",
        "def is_orthogonal(matrix):\n",
        "    rows = len(matrix)\n",
        "    if rows == 0:\n",
        "        return False\n",
        "\n",
        "    columns = len(matrix[0])\n",
        "    if columns != rows:\n",
        "        return False\n",
        "\n",
        "    # Transpose the matrix\n",
        "    transpose_matrix = [[matrix[j][i] for j in range(rows)] for i in range(columns)]\n",
        "\n",
        "    # Multiply matrix A by its transpose matrix and check if it's the identity matrix\n",
        "    product_matrix = [[sum(a * b for a, b in zip(row, col)) for col in transpose_matrix] for row in matrix]\n",
        "    identity_matrix = [[1 if i == j else 0 for j in range(columns)] for i in range(rows)]\n",
        "\n",
        "    return product_matrix == identity_matrix\n",
        "\n",
        "# Taking input for a 3x3 matrix\n",
        "rows = 3\n",
        "columns = 3\n",
        "matrix = input_matrix(rows, columns)\n",
        "\n",
        "# Printing the inputted matrix\n",
        "print(\"Inputted matrix:\")\n",
        "for row in matrix:\n",
        "    for element in row:\n",
        "        print(element, end=\" \")\n",
        "    print()\n",
        "\n",
        "# Checking if the matrix is orthogonal\n",
        "if is_orthogonal(matrix):\n",
        "    print(\"The matrix is orthogonal.\")\n",
        "else:\n",
        "    print(\"The matrix is not orthogonal.\")"
      ],
      "metadata": {
        "colab": {
          "base_uri": "https://localhost:8080/"
        },
        "id": "v3f4q1BDTFBm",
        "outputId": "de4b69d9-c3e4-452c-a5d0-4a364a384d47"
      },
      "execution_count": null,
      "outputs": [
        {
          "output_type": "stream",
          "name": "stdout",
          "text": [
            "Enter the elements of the matrix:\n",
            "Enter element at position (1, 1): 1\n",
            "Enter element at position (1, 2): 2\n",
            "Enter element at position (1, 3): 3\n",
            "Enter element at position (2, 1): 3\n",
            "Enter element at position (2, 2): 3\n",
            "Enter element at position (2, 3): 3\n",
            "Enter element at position (3, 1): 3\n",
            "Enter element at position (3, 2): 2\n",
            "Enter element at position (3, 3): 1\n",
            "Inputted matrix:\n",
            "1.0 2.0 3.0 \n",
            "3.0 3.0 3.0 \n",
            "3.0 2.0 1.0 \n",
            "The matrix is not orthogonal.\n"
          ]
        }
      ]
    },
    {
      "cell_type": "code",
      "source": [
        "def multiply_matrices(matrix1, matrix2):\n",
        "    result = [[0 for _ in range(len(matrix2[0]))] for _ in range(len(matrix1))]\n",
        "\n",
        "    for i in range(len(matrix1)):\n",
        "        for j in range(len(matrix2[0])):\n",
        "            for k in range(len(matrix2)):\n",
        "                result[i][j] += matrix1[i][k] * matrix2[k][j]\n",
        "\n",
        "    return result\n",
        "\n",
        "\n",
        "matrix1 = [\n",
        "    [1, 2, 3],\n",
        "    [4, 5, 6],\n",
        "    [7, 8, 9]\n",
        "]\n",
        "\n",
        "\n",
        "matrix2 = [\n",
        "    [10, 11],\n",
        "    [12, 13],\n",
        "    [14, 15]\n",
        "]\n",
        "\n",
        "\n",
        "result_matrix = multiply_matrices(matrix1, matrix2)\n",
        "\n",
        "\n",
        "for row in result_matrix:\n",
        "    for element in row:\n",
        "        print(element, end=\" \")\n",
        "    print()"
      ],
      "metadata": {
        "colab": {
          "base_uri": "https://localhost:8080/"
        },
        "id": "ekxMqZUhVjRi",
        "outputId": "b7c8eb74-5aad-4f52-f8b1-3f9e104f5b14"
      },
      "execution_count": null,
      "outputs": [
        {
          "output_type": "stream",
          "name": "stdout",
          "text": [
            "76 82 \n",
            "184 199 \n",
            "292 316 \n"
          ]
        }
      ]
    },
    {
      "cell_type": "code",
      "source": [
        "# Original 3x3 matrix\n",
        "matrix = [\n",
        "    [1, 2, 7],\n",
        "    [4, 5, 6],\n",
        "    [3, 8, 9]\n",
        "]\n",
        "\n",
        "# Transpose the matrix\n",
        "transpose = [[row[i] for row in matrix] for i in range(3)]\n",
        "\n",
        "# Print the transposed matrix\n",
        "for row in transpose:\n",
        "    print(row)\n"
      ],
      "metadata": {
        "id": "GsI4jjY2bJ2p",
        "colab": {
          "base_uri": "https://localhost:8080/"
        },
        "outputId": "abd2997b-a947-4ebf-ac41-edd08b23f356"
      },
      "execution_count": null,
      "outputs": [
        {
          "output_type": "stream",
          "name": "stdout",
          "text": [
            "[1, 4, 3]\n",
            "[2, 5, 8]\n",
            "[7, 6, 9]\n"
          ]
        }
      ]
    },
    {
      "cell_type": "code",
      "source": [
        "# Original 3x3 matrix\n",
        "matrix = [\n",
        "    [1, 2, 3],\n",
        "    [4, 5, 6],\n",
        "    [7, 8, 9]\n",
        "]\n",
        "\n",
        "# Reverse the diagonal elements\n",
        "for i in range(3):\n",
        "    matrix[i][i], matrix[i][2-i] = matrix[i][2-i], matrix[i][i]\n",
        "\n",
        "# Print the modified matrix\n",
        "for row in matrix:\n",
        "    print(row)\n"
      ],
      "metadata": {
        "id": "N-nku5fdd9ez"
      },
      "execution_count": null,
      "outputs": []
    }
  ]
}