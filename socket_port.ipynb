{
  "nbformat": 4,
  "nbformat_minor": 0,
  "metadata": {
    "colab": {
      "provenance": [],
      "authorship_tag": "ABX9TyOVOFsQ85WWCCLSwpk+pC4i",
      "include_colab_link": true
    },
    "kernelspec": {
      "name": "python3",
      "display_name": "Python 3"
    },
    "language_info": {
      "name": "python"
    }
  },
  "cells": [
    {
      "cell_type": "markdown",
      "metadata": {
        "id": "view-in-github",
        "colab_type": "text"
      },
      "source": [
        "<a href=\"https://colab.research.google.com/github/sajad-naderzadeh/python/blob/main/socket_port.ipynb\" target=\"_parent\"><img src=\"https://colab.research.google.com/assets/colab-badge.svg\" alt=\"Open In Colab\"/></a>"
      ]
    },
    {
      "cell_type": "code",
      "execution_count": null,
      "metadata": {
        "id": "AcsGc9VZi1eT"
      },
      "outputs": [],
      "source": [
        "import socket\n",
        "\n",
        "def scan_ports(target_ip, ports):\n",
        "    print(f\"[+] Starting port scan on {target_ip}...\\n\")\n",
        "\n",
        "    for port in ports:\n",
        "        sock = socket.socket(socket.AF_INET, socket.SOCK_STREAM)\n",
        "        sock.settimeout(1)  # Timeout after 1 second\n",
        "\n",
        "        result = sock.connect_ex((target_ip, port))\n",
        "        if result == 0:\n",
        "            print(f\"[OPEN] Port {port} is open.\")\n",
        "        else:\n",
        "            print(f\"[CLOSED] Port {port} is closed.\")\n",
        "\n",
        "        sock.close()\n",
        "\n",
        "if __name__ == \"__main__\":\n",
        "    print(\"=== Simple Python Port Scanner ===\")\n",
        "    target = input(\"Enter target IP address: \")\n",
        "\n",
        "    # Common ports to scan\n",
        "    ports_to_scan = [\n",
        "        21,    # FTP\n",
        "        22,    # SSH\n",
        "        23,    # Telnet\n",
        "        25,    # SMTP\n",
        "        53,    # DNS\n",
        "        80,    # HTTP\n",
        "        110,   # POP3\n",
        "        135,   # RPC\n",
        "        139,   # NetBIOS\n",
        "        143,   # IMAP\n",
        "        443,   # HTTPS\n",
        "        445,   # Microsoft-DS\n",
        "        3306   # MySQL\n",
        "    ]\n",
        "\n",
        "    scan_ports(target, ports_to_scan)\n"
      ]
    }
  ]
}