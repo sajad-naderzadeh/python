{
  "nbformat": 4,
  "nbformat_minor": 0,
  "metadata": {
    "colab": {
      "provenance": []
    },
    "kernelspec": {
      "name": "python3",
      "display_name": "Python 3"
    },
    "language_info": {
      "name": "python"
    }
  },
  "cells": [
    {
      "cell_type": "code",
      "execution_count": null,
      "metadata": {
        "id": "0039eGBKreOA"
      },
      "outputs": [],
      "source": [
        "categories = [\"Unskilled\", \"Semi-skilled\", \"Skilled\"]\n",
        "yearlyRecruitmentLimit = []\n",
        "\n",
        "for category in categories:\n",
        "    limit = int(input(\"Enter the yearly recruitment limit for \" + category + \": \"))\n",
        "    yearlyRecruitmentLimit.append(limit)\n",
        "\n",
        "numYears = int(input(\"Enter the number of years: \"))\n",
        "\n",
        "H = [[0] * 3 for _ in range(numYears)]\n",
        "T1 = [[0] * 3 for _ in range(numYears)]\n",
        "T2 = [[0] * 3 for _ in range(numYears)]\n",
        "L = [[0] * 3 for _ in range(numYears)]\n",
        "S = [[0] * 3 for _ in range(numYears)]\n",
        "W = [0] * numYears\n",
        "\n",
        "for t in range(numYears):\n",
        "    for i in range(3):\n",
        "        H[t][i] = int(input(\"Enter the value of H for year \" + str(t + 1) + \" and category \" + categories[i] + \": \"))\n",
        "        T1[t][i] = int(input(\"Enter the value of T1 for year \" + str(t + 1) + \" and category \" + categories[i] + \": \"))\n",
        "        T2[t][i] = int(input(\"Enter the value of T2 for year \" + str(t + 1) + \" and category \" + categories[i] + \": \"))\n",
        "        L[t][i] = int(input(\"Enter the value of L for year \" + str(t + 1) + \" and category \" + categories[i] + \": \"))\n",
        "        S[t][i] = int(input(\"Enter the value of S for year \" + str(t + 1) + \" and category \" + categories[i] + \": \"))\n",
        "    W[t] = int(input(\"Enter the value of W for year \" + str(t + 1) + \": \"))\n",
        "\n",
        "# Define the total cost function\n",
        "def totalCost(H, T1, T2, L, S, W, yearlyRecruitmentLimit):\n",
        "    total = 0\n",
        "    for t in range(numYears):\n",
        "        for i in range(3):\n",
        "            total += (T1[t][i] * 4 + T2[t][i] * 5 + L[t][i] * LayoffCost + S[t][i] * SurplusCost)\n",
        "        total += W[t] * WelfareCost\n",
        "    return total\n",
        "\n",
        "# Define the constraints\n",
        "constraints = []\n",
        "for t in range(numYears):\n",
        "    for i in range(3):\n",
        "        constraints.append((\"Recruitment limit \" + str(t + 1) + \" \" + categories[i], H[t][i] <= yearlyRecruitmentLimit[i]))\n",
        "        constraints.append((\"Training limit T1 \" + str(t + 1) + \" \" + categories[i], T1[t][i] <= 200))\n",
        "        if i != 2:\n",
        "            constraints.append((\"Training limit T2 \" + str(t + 1) + \" \" + categories[i], T2[t][i] <= 0.25 * S[t-1][i]))\n",
        "        constraints.append((\"Surplus limit \" + str(t + 1) + \" \" + categories[i], S[t][i] <= 50))\n",
        "\n",
        "# Solve the model\n",
        "minCost = float('inf')\n",
        "bestSolution = []\n",
        "\n",
        "# Use itertools.product to generate combinations of candidate values\n",
        "# The equivalent of itertools.product in Python would involve nested loops to generate combinations\n",
        "\n",
        "# Print the results\n",
        "print(\"Optimal solution:\")\n",
        "for val in bestSolution:\n",
        "    print(val, end=\" \")\n",
        "print()\n",
        "print(\"Minimum cost:\", minCost)\n"
      ]
    }
  ]
}