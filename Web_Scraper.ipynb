{
  "cells": [
    {
      "cell_type": "markdown",
      "metadata": {
        "id": "view-in-github",
        "colab_type": "text"
      },
      "source": [
        "<a href=\"https://colab.research.google.com/github/sajad-naderzadeh/python/blob/main/Web_Scraper.ipynb\" target=\"_parent\"><img src=\"https://colab.research.google.com/assets/colab-badge.svg\" alt=\"Open In Colab\"/></a>"
      ]
    },
    {
      "cell_type": "code",
      "execution_count": null,
      "metadata": {
        "colab": {
          "background_save": true
        },
        "id": "AlhNaVmQnjVy",
        "outputId": "38c668d7-6fba-4267-b8be-2a54c3b37ae7"
      },
      "outputs": [
        {
          "name": "stdout",
          "output_type": "stream",
          "text": [
            "An error occurred: HTTPSConnectionPool(host='example-news-site.com', port=443): Max retries exceeded with url: / (Caused by NameResolutionError(\"<urllib3.connection.HTTPSConnection object at 0x7f2ee1ae5ed0>: Failed to resolve 'example-news-site.com' ([Errno -2] Name or service not known)\"))\n"
          ]
        }
      ],
      "source": [
        "import requests\n",
        "from bs4 import BeautifulSoup\n",
        "\n",
        "def scrape_article_titles(url):\n",
        "    try:\n",
        "        # Send a GET request to the website\n",
        "        response = requests.get(url)\n",
        "        response.raise_for_status()  # Check for request errors\n",
        "\n",
        "        # Parse the HTML content with BeautifulSoup\n",
        "        soup = BeautifulSoup(response.text, 'html.parser')\n",
        "\n",
        "        # Find and extract article titles (modify the selector based on the website structure)\n",
        "        titles = soup.find_all('h2')  # Example: assuming articles are under <h2> tags\n",
        "\n",
        "        # Print extracted titles\n",
        "        print(\"Article Titles:\")\n",
        "        for title in titles:\n",
        "            print(\"- \" + title.get_text(strip=True))\n",
        "    except requests.exceptions.RequestException as e:\n",
        "        print(\"An error occurred:\", e)\n",
        "\n",
        "# URL of the page you want to scrape\n",
        "url = \"https://example-news-site.com\"  # Replace with the URL of the site you want to scrape\n",
        "scrape_article_titles(url)\n"
      ]
    }
  ],
  "metadata": {
    "colab": {
      "provenance": [],
      "authorship_tag": "ABX9TyMYV1iv2iYK9tX+H1BWXf2Y",
      "include_colab_link": true
    },
    "kernelspec": {
      "display_name": "Python 3",
      "name": "python3"
    },
    "language_info": {
      "name": "python"
    }
  },
  "nbformat": 4,
  "nbformat_minor": 0
}